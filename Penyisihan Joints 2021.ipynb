{
 "cells": [
  {
   "cell_type": "markdown",
   "metadata": {},
   "source": [
    "# Membuat Klasifikasi Data Asuransi "
   ]
  },
  {
   "cell_type": "code",
   "execution_count": 4,
   "metadata": {},
   "outputs": [],
   "source": [
    "import pandas as pd\n",
    "import numpy as np\n",
    "import matplotlib.pyplot as plt\n",
    "import seaborn as sns"
   ]
  },
  {
   "cell_type": "code",
   "execution_count": 5,
   "metadata": {},
   "outputs": [],
   "source": [
    "# Load dataset dari device C(Downloads)\n",
    "\n",
    "data_asuransi_train = pd.read_csv(\"../Downloads/Dataset Joints/Asuransi J/train_data.csv\")\n",
    "data_asuransi_test = pd.read_csv(\"../Downloads/Dataset Joints/Asuransi J/test_data.csv\")"
   ]
  },
  {
   "cell_type": "markdown",
   "metadata": {},
   "source": [
    "## 1. Mengolah Data Train (Pre-processing)"
   ]
  },
  {
   "cell_type": "code",
   "execution_count": 6,
   "metadata": {},
   "outputs": [
    {
     "data": {
      "text/html": [
       "<div>\n",
       "<style scoped>\n",
       "    .dataframe tbody tr th:only-of-type {\n",
       "        vertical-align: middle;\n",
       "    }\n",
       "\n",
       "    .dataframe tbody tr th {\n",
       "        vertical-align: top;\n",
       "    }\n",
       "\n",
       "    .dataframe thead th {\n",
       "        text-align: right;\n",
       "    }\n",
       "</style>\n",
       "<table border=\"1\" class=\"dataframe\">\n",
       "  <thead>\n",
       "    <tr style=\"text-align: right;\">\n",
       "      <th></th>\n",
       "      <th>id</th>\n",
       "      <th>Gender</th>\n",
       "      <th>Umur</th>\n",
       "      <th>Izin_Mengemudi</th>\n",
       "      <th>Kode_Wilayah</th>\n",
       "      <th>Tanggal_Asuransi</th>\n",
       "      <th>Tahun_Kendaraan</th>\n",
       "      <th>Biaya</th>\n",
       "      <th>Sourcing_Channel</th>\n",
       "      <th>Hari_Diasuransikan</th>\n",
       "      <th>Target</th>\n",
       "    </tr>\n",
       "  </thead>\n",
       "  <tbody>\n",
       "    <tr>\n",
       "      <th>0</th>\n",
       "      <td>58609</td>\n",
       "      <td>Pria</td>\n",
       "      <td>65.0</td>\n",
       "      <td>1.0</td>\n",
       "      <td>48.0</td>\n",
       "      <td>11/4/2018</td>\n",
       "      <td>NaN</td>\n",
       "      <td>2630.0</td>\n",
       "      <td>15.0</td>\n",
       "      <td>131.0</td>\n",
       "      <td>0</td>\n",
       "    </tr>\n",
       "    <tr>\n",
       "      <th>1</th>\n",
       "      <td>208222</td>\n",
       "      <td>Wanita</td>\n",
       "      <td>22.0</td>\n",
       "      <td>1.0</td>\n",
       "      <td>21.0</td>\n",
       "      <td>2/2/2018</td>\n",
       "      <td>&lt;1 Tahun</td>\n",
       "      <td>NaN</td>\n",
       "      <td>NaN</td>\n",
       "      <td>NaN</td>\n",
       "      <td>0</td>\n",
       "    </tr>\n",
       "    <tr>\n",
       "      <th>2</th>\n",
       "      <td>345428</td>\n",
       "      <td>Wanita</td>\n",
       "      <td>24.0</td>\n",
       "      <td>1.0</td>\n",
       "      <td>NaN</td>\n",
       "      <td>5/12/2019</td>\n",
       "      <td>&lt;1 Tahun</td>\n",
       "      <td>NaN</td>\n",
       "      <td>NaN</td>\n",
       "      <td>181.0</td>\n",
       "      <td>0</td>\n",
       "    </tr>\n",
       "    <tr>\n",
       "      <th>3</th>\n",
       "      <td>236831</td>\n",
       "      <td>Pria</td>\n",
       "      <td>58.0</td>\n",
       "      <td>1.0</td>\n",
       "      <td>46.0</td>\n",
       "      <td>NaN</td>\n",
       "      <td>1-2 Tahun</td>\n",
       "      <td>NaN</td>\n",
       "      <td>124.0</td>\n",
       "      <td>NaN</td>\n",
       "      <td>0</td>\n",
       "    </tr>\n",
       "    <tr>\n",
       "      <th>4</th>\n",
       "      <td>280181</td>\n",
       "      <td>Pria</td>\n",
       "      <td>NaN</td>\n",
       "      <td>1.0</td>\n",
       "      <td>36.0</td>\n",
       "      <td>11/19/2019</td>\n",
       "      <td>&gt;2 Tahun</td>\n",
       "      <td>NaN</td>\n",
       "      <td>NaN</td>\n",
       "      <td>NaN</td>\n",
       "      <td>1</td>\n",
       "    </tr>\n",
       "  </tbody>\n",
       "</table>\n",
       "</div>"
      ],
      "text/plain": [
       "       id  Gender  Umur  Izin_Mengemudi  Kode_Wilayah Tanggal_Asuransi  \\\n",
       "0   58609    Pria  65.0             1.0          48.0        11/4/2018   \n",
       "1  208222  Wanita  22.0             1.0          21.0         2/2/2018   \n",
       "2  345428  Wanita  24.0             1.0           NaN        5/12/2019   \n",
       "3  236831    Pria  58.0             1.0          46.0              NaN   \n",
       "4  280181    Pria   NaN             1.0          36.0       11/19/2019   \n",
       "\n",
       "  Tahun_Kendaraan   Biaya  Sourcing_Channel  Hari_Diasuransikan  Target  \n",
       "0             NaN  2630.0              15.0               131.0       0  \n",
       "1        <1 Tahun     NaN               NaN                 NaN       0  \n",
       "2        <1 Tahun     NaN               NaN               181.0       0  \n",
       "3       1-2 Tahun     NaN             124.0                 NaN       0  \n",
       "4        >2 Tahun     NaN               NaN                 NaN       1  "
      ]
     },
     "execution_count": 6,
     "metadata": {},
     "output_type": "execute_result"
    }
   ],
   "source": [
    "data_asuransi_train.head()"
   ]
  },
  {
   "cell_type": "code",
   "execution_count": 7,
   "metadata": {},
   "outputs": [
    {
     "data": {
      "text/plain": [
       "id                         0\n",
       "Gender                 31768\n",
       "Umur                   96258\n",
       "Izin_Mengemudi         76647\n",
       "Kode_Wilayah           84074\n",
       "Tanggal_Asuransi       78084\n",
       "Tahun_Kendaraan        66440\n",
       "Biaya                 126537\n",
       "Sourcing_Channel       83645\n",
       "Hari_Diasuransikan     75666\n",
       "Target                     0\n",
       "dtype: int64"
      ]
     },
     "execution_count": 7,
     "metadata": {},
     "output_type": "execute_result"
    }
   ],
   "source": [
    "data_asuransi_train.isnull().sum()"
   ]
  },
  {
   "cell_type": "markdown",
   "metadata": {},
   "source": [
    "Karena di dalam dataframe data_asuransi_train masih terdapat banyak sekali data yang kosong, maka kami akan melakukan pengolahan terlebih dahulu untuk mengatasi kolom yang terdapat data kosong."
   ]
  },
  {
   "cell_type": "code",
   "execution_count": 8,
   "metadata": {
    "scrolled": true
   },
   "outputs": [
    {
     "data": {
      "text/html": [
       "<div>\n",
       "<style scoped>\n",
       "    .dataframe tbody tr th:only-of-type {\n",
       "        vertical-align: middle;\n",
       "    }\n",
       "\n",
       "    .dataframe tbody tr th {\n",
       "        vertical-align: top;\n",
       "    }\n",
       "\n",
       "    .dataframe thead th {\n",
       "        text-align: right;\n",
       "    }\n",
       "</style>\n",
       "<table border=\"1\" class=\"dataframe\">\n",
       "  <thead>\n",
       "    <tr style=\"text-align: right;\">\n",
       "      <th></th>\n",
       "      <th>id</th>\n",
       "      <th>Gender</th>\n",
       "      <th>Umur</th>\n",
       "      <th>Izin_Mengemudi</th>\n",
       "      <th>Kode_Wilayah</th>\n",
       "      <th>Tanggal_Asuransi</th>\n",
       "      <th>Tahun_Kendaraan</th>\n",
       "      <th>Biaya</th>\n",
       "      <th>Sourcing_Channel</th>\n",
       "      <th>Hari_Diasuransikan</th>\n",
       "      <th>Target</th>\n",
       "    </tr>\n",
       "  </thead>\n",
       "  <tbody>\n",
       "    <tr>\n",
       "      <th>0</th>\n",
       "      <td>58609</td>\n",
       "      <td>0</td>\n",
       "      <td>65.0</td>\n",
       "      <td>1.0</td>\n",
       "      <td>48.0</td>\n",
       "      <td>11/4/2018</td>\n",
       "      <td>NaN</td>\n",
       "      <td>2630.0</td>\n",
       "      <td>15.0</td>\n",
       "      <td>131.0</td>\n",
       "      <td>0</td>\n",
       "    </tr>\n",
       "    <tr>\n",
       "      <th>1</th>\n",
       "      <td>208222</td>\n",
       "      <td>0</td>\n",
       "      <td>22.0</td>\n",
       "      <td>1.0</td>\n",
       "      <td>21.0</td>\n",
       "      <td>2/2/2018</td>\n",
       "      <td>&lt;1 Tahun</td>\n",
       "      <td>NaN</td>\n",
       "      <td>NaN</td>\n",
       "      <td>NaN</td>\n",
       "      <td>0</td>\n",
       "    </tr>\n",
       "    <tr>\n",
       "      <th>2</th>\n",
       "      <td>345428</td>\n",
       "      <td>0</td>\n",
       "      <td>24.0</td>\n",
       "      <td>1.0</td>\n",
       "      <td>NaN</td>\n",
       "      <td>5/12/2019</td>\n",
       "      <td>&lt;1 Tahun</td>\n",
       "      <td>NaN</td>\n",
       "      <td>NaN</td>\n",
       "      <td>181.0</td>\n",
       "      <td>0</td>\n",
       "    </tr>\n",
       "    <tr>\n",
       "      <th>3</th>\n",
       "      <td>236831</td>\n",
       "      <td>0</td>\n",
       "      <td>58.0</td>\n",
       "      <td>1.0</td>\n",
       "      <td>46.0</td>\n",
       "      <td>NaN</td>\n",
       "      <td>1-2 Tahun</td>\n",
       "      <td>NaN</td>\n",
       "      <td>124.0</td>\n",
       "      <td>NaN</td>\n",
       "      <td>0</td>\n",
       "    </tr>\n",
       "    <tr>\n",
       "      <th>4</th>\n",
       "      <td>280181</td>\n",
       "      <td>0</td>\n",
       "      <td>NaN</td>\n",
       "      <td>1.0</td>\n",
       "      <td>36.0</td>\n",
       "      <td>11/19/2019</td>\n",
       "      <td>&gt;2 Tahun</td>\n",
       "      <td>NaN</td>\n",
       "      <td>NaN</td>\n",
       "      <td>NaN</td>\n",
       "      <td>1</td>\n",
       "    </tr>\n",
       "  </tbody>\n",
       "</table>\n",
       "</div>"
      ],
      "text/plain": [
       "       id  Gender  Umur  Izin_Mengemudi  Kode_Wilayah Tanggal_Asuransi  \\\n",
       "0   58609       0  65.0             1.0          48.0        11/4/2018   \n",
       "1  208222       0  22.0             1.0          21.0         2/2/2018   \n",
       "2  345428       0  24.0             1.0           NaN        5/12/2019   \n",
       "3  236831       0  58.0             1.0          46.0              NaN   \n",
       "4  280181       0   NaN             1.0          36.0       11/19/2019   \n",
       "\n",
       "  Tahun_Kendaraan   Biaya  Sourcing_Channel  Hari_Diasuransikan  Target  \n",
       "0             NaN  2630.0              15.0               131.0       0  \n",
       "1        <1 Tahun     NaN               NaN                 NaN       0  \n",
       "2        <1 Tahun     NaN               NaN               181.0       0  \n",
       "3       1-2 Tahun     NaN             124.0                 NaN       0  \n",
       "4        >2 Tahun     NaN               NaN                 NaN       1  "
      ]
     },
     "execution_count": 8,
     "metadata": {},
     "output_type": "execute_result"
    }
   ],
   "source": [
    "# Mengubah kategori dari tipe data string menjadi tipe integer (numerik) untuk kolom Gender\n",
    "from sklearn.preprocessing import OneHotEncoder \n",
    "\n",
    "data_asuransi_train['Gender'] = pd.factorize(data_asuransi_train.Gender) [0]\n",
    "data_asuransi_train[\"Gender\"] = pd.get_dummies(data_asuransi_train[\"Gender\"])\n",
    "data_asuransi_train.head()"
   ]
  },
  {
   "cell_type": "code",
   "execution_count": 9,
   "metadata": {},
   "outputs": [
    {
     "data": {
      "image/png": "[encoded data removed]",
      "text/plain": [
       "<Figure size 432x288 with 1 Axes>"
      ]
     },
     "metadata": {
      "needs_background": "light"
     },
     "output_type": "display_data"
    },
    {
     "data": {
      "text/plain": [
       "<Figure size 720x720 with 0 Axes>"
      ]
     },
     "metadata": {},
     "output_type": "display_data"
    }
   ],
   "source": [
    "# Membuat visualsasi untuk kolom Gender\n",
    "\n",
    "sns.countplot(x=\"Gender\", hue=\"Gender\", data=data_asuransi_train)\n",
    "plt.figure(figsize=(10, 10))\n",
    "plt.show()"
   ]
  },
  {
   "cell_type": "markdown",
   "metadata": {},
   "source": [
    "Selanjutnya kami mengubah tipe data untuk kolom Tanggal_Asuransi dan Tahun_Kendaraan menjadi integer."
   ]
  },
  {
   "cell_type": "code",
   "execution_count": 10,
   "metadata": {
    "scrolled": true
   },
   "outputs": [
    {
     "data": {
      "text/html": [
       "<div>\n",
       "<style scoped>\n",
       "    .dataframe tbody tr th:only-of-type {\n",
       "        vertical-align: middle;\n",
       "    }\n",
       "\n",
       "    .dataframe tbody tr th {\n",
       "        vertical-align: top;\n",
       "    }\n",
       "\n",
       "    .dataframe thead th {\n",
       "        text-align: right;\n",
       "    }\n",
       "</style>\n",
       "<table border=\"1\" class=\"dataframe\">\n",
       "  <thead>\n",
       "    <tr style=\"text-align: right;\">\n",
       "      <th></th>\n",
       "      <th>id</th>\n",
       "      <th>Gender</th>\n",
       "      <th>Umur</th>\n",
       "      <th>Izin_Mengemudi</th>\n",
       "      <th>Kode_Wilayah</th>\n",
       "      <th>Tanggal_Asuransi</th>\n",
       "      <th>Tahun_Kendaraan</th>\n",
       "      <th>Biaya</th>\n",
       "      <th>Sourcing_Channel</th>\n",
       "      <th>Hari_Diasuransikan</th>\n",
       "      <th>Target</th>\n",
       "    </tr>\n",
       "  </thead>\n",
       "  <tbody>\n",
       "    <tr>\n",
       "      <th>0</th>\n",
       "      <td>58609</td>\n",
       "      <td>0</td>\n",
       "      <td>65.0</td>\n",
       "      <td>1.0</td>\n",
       "      <td>48.0</td>\n",
       "      <td>2018-11-04</td>\n",
       "      <td>-1</td>\n",
       "      <td>2630.0</td>\n",
       "      <td>15.0</td>\n",
       "      <td>131.0</td>\n",
       "      <td>0</td>\n",
       "    </tr>\n",
       "    <tr>\n",
       "      <th>1</th>\n",
       "      <td>208222</td>\n",
       "      <td>0</td>\n",
       "      <td>22.0</td>\n",
       "      <td>1.0</td>\n",
       "      <td>21.0</td>\n",
       "      <td>2018-02-02</td>\n",
       "      <td>0</td>\n",
       "      <td>NaN</td>\n",
       "      <td>NaN</td>\n",
       "      <td>NaN</td>\n",
       "      <td>0</td>\n",
       "    </tr>\n",
       "    <tr>\n",
       "      <th>2</th>\n",
       "      <td>345428</td>\n",
       "      <td>0</td>\n",
       "      <td>24.0</td>\n",
       "      <td>1.0</td>\n",
       "      <td>NaN</td>\n",
       "      <td>2019-05-12</td>\n",
       "      <td>0</td>\n",
       "      <td>NaN</td>\n",
       "      <td>NaN</td>\n",
       "      <td>181.0</td>\n",
       "      <td>0</td>\n",
       "    </tr>\n",
       "    <tr>\n",
       "      <th>3</th>\n",
       "      <td>236831</td>\n",
       "      <td>0</td>\n",
       "      <td>58.0</td>\n",
       "      <td>1.0</td>\n",
       "      <td>46.0</td>\n",
       "      <td>2019-11-19</td>\n",
       "      <td>1</td>\n",
       "      <td>NaN</td>\n",
       "      <td>124.0</td>\n",
       "      <td>NaN</td>\n",
       "      <td>0</td>\n",
       "    </tr>\n",
       "    <tr>\n",
       "      <th>4</th>\n",
       "      <td>280181</td>\n",
       "      <td>0</td>\n",
       "      <td>NaN</td>\n",
       "      <td>1.0</td>\n",
       "      <td>36.0</td>\n",
       "      <td>2019-11-19</td>\n",
       "      <td>2</td>\n",
       "      <td>NaN</td>\n",
       "      <td>NaN</td>\n",
       "      <td>NaN</td>\n",
       "      <td>1</td>\n",
       "    </tr>\n",
       "  </tbody>\n",
       "</table>\n",
       "</div>"
      ],
      "text/plain": [
       "       id  Gender  Umur  Izin_Mengemudi  Kode_Wilayah Tanggal_Asuransi  \\\n",
       "0   58609       0  65.0             1.0          48.0       2018-11-04   \n",
       "1  208222       0  22.0             1.0          21.0       2018-02-02   \n",
       "2  345428       0  24.0             1.0           NaN       2019-05-12   \n",
       "3  236831       0  58.0             1.0          46.0       2019-11-19   \n",
       "4  280181       0   NaN             1.0          36.0       2019-11-19   \n",
       "\n",
       "   Tahun_Kendaraan   Biaya  Sourcing_Channel  Hari_Diasuransikan  Target  \n",
       "0               -1  2630.0              15.0               131.0       0  \n",
       "1                0     NaN               NaN                 NaN       0  \n",
       "2                0     NaN               NaN               181.0       0  \n",
       "3                1     NaN             124.0                 NaN       0  \n",
       "4                2     NaN               NaN                 NaN       1  "
      ]
     },
     "execution_count": 10,
     "metadata": {},
     "output_type": "execute_result"
    }
   ],
   "source": [
    "data_asuransi_train[\"Tanggal_Asuransi\"] = pd.to_datetime(data_asuransi_train[\"Tanggal_Asuransi\"], errors='coerce')\n",
    "data_asuransi_train[\"Tanggal_Asuransi\"].fillna(method='bfill', inplace=True)\n",
    "\n",
    "data_asuransi_train['Tahun_Kendaraan'] = pd.factorize(data_asuransi_train.Tahun_Kendaraan) [0]\n",
    "data_asuransi_train.head()"
   ]
  },
  {
   "cell_type": "markdown",
   "metadata": {},
   "source": [
    "Namun jika dilihat pada tahapan preprocessing untuk Tanggal_Asuransi, tipe data yang digunakan masih tipe data datetime, maka kami harus mengubahnya menjadi integer karena dalam melakukan pengujian algoritma tidak bisa mengolah tipe data datetime."
   ]
  },
  {
   "cell_type": "code",
   "execution_count": 11,
   "metadata": {
    "scrolled": true
   },
   "outputs": [
    {
     "data": {
      "text/html": [
       "<div>\n",
       "<style scoped>\n",
       "    .dataframe tbody tr th:only-of-type {\n",
       "        vertical-align: middle;\n",
       "    }\n",
       "\n",
       "    .dataframe tbody tr th {\n",
       "        vertical-align: top;\n",
       "    }\n",
       "\n",
       "    .dataframe thead th {\n",
       "        text-align: right;\n",
       "    }\n",
       "</style>\n",
       "<table border=\"1\" class=\"dataframe\">\n",
       "  <thead>\n",
       "    <tr style=\"text-align: right;\">\n",
       "      <th></th>\n",
       "      <th>id</th>\n",
       "      <th>Gender</th>\n",
       "      <th>Umur</th>\n",
       "      <th>Izin_Mengemudi</th>\n",
       "      <th>Kode_Wilayah</th>\n",
       "      <th>Tanggal_Asuransi</th>\n",
       "      <th>Tahun_Kendaraan</th>\n",
       "      <th>Biaya</th>\n",
       "      <th>Sourcing_Channel</th>\n",
       "      <th>Hari_Diasuransikan</th>\n",
       "      <th>Target</th>\n",
       "    </tr>\n",
       "  </thead>\n",
       "  <tbody>\n",
       "    <tr>\n",
       "      <th>0</th>\n",
       "      <td>58609</td>\n",
       "      <td>0</td>\n",
       "      <td>65.0</td>\n",
       "      <td>1.0</td>\n",
       "      <td>48.0</td>\n",
       "      <td>737002</td>\n",
       "      <td>-1</td>\n",
       "      <td>2630.0</td>\n",
       "      <td>15.0</td>\n",
       "      <td>131.0</td>\n",
       "      <td>0</td>\n",
       "    </tr>\n",
       "    <tr>\n",
       "      <th>1</th>\n",
       "      <td>208222</td>\n",
       "      <td>0</td>\n",
       "      <td>22.0</td>\n",
       "      <td>1.0</td>\n",
       "      <td>21.0</td>\n",
       "      <td>736727</td>\n",
       "      <td>0</td>\n",
       "      <td>NaN</td>\n",
       "      <td>NaN</td>\n",
       "      <td>NaN</td>\n",
       "      <td>0</td>\n",
       "    </tr>\n",
       "    <tr>\n",
       "      <th>2</th>\n",
       "      <td>345428</td>\n",
       "      <td>0</td>\n",
       "      <td>24.0</td>\n",
       "      <td>1.0</td>\n",
       "      <td>NaN</td>\n",
       "      <td>737191</td>\n",
       "      <td>0</td>\n",
       "      <td>NaN</td>\n",
       "      <td>NaN</td>\n",
       "      <td>181.0</td>\n",
       "      <td>0</td>\n",
       "    </tr>\n",
       "    <tr>\n",
       "      <th>3</th>\n",
       "      <td>236831</td>\n",
       "      <td>0</td>\n",
       "      <td>58.0</td>\n",
       "      <td>1.0</td>\n",
       "      <td>46.0</td>\n",
       "      <td>737382</td>\n",
       "      <td>1</td>\n",
       "      <td>NaN</td>\n",
       "      <td>124.0</td>\n",
       "      <td>NaN</td>\n",
       "      <td>0</td>\n",
       "    </tr>\n",
       "    <tr>\n",
       "      <th>4</th>\n",
       "      <td>280181</td>\n",
       "      <td>0</td>\n",
       "      <td>NaN</td>\n",
       "      <td>1.0</td>\n",
       "      <td>36.0</td>\n",
       "      <td>737382</td>\n",
       "      <td>2</td>\n",
       "      <td>NaN</td>\n",
       "      <td>NaN</td>\n",
       "      <td>NaN</td>\n",
       "      <td>1</td>\n",
       "    </tr>\n",
       "  </tbody>\n",
       "</table>\n",
       "</div>"
      ],
      "text/plain": [
       "       id  Gender  Umur  Izin_Mengemudi  Kode_Wilayah  Tanggal_Asuransi  \\\n",
       "0   58609       0  65.0             1.0          48.0            737002   \n",
       "1  208222       0  22.0             1.0          21.0            736727   \n",
       "2  345428       0  24.0             1.0           NaN            737191   \n",
       "3  236831       0  58.0             1.0          46.0            737382   \n",
       "4  280181       0   NaN             1.0          36.0            737382   \n",
       "\n",
       "   Tahun_Kendaraan   Biaya  Sourcing_Channel  Hari_Diasuransikan  Target  \n",
       "0               -1  2630.0              15.0               131.0       0  \n",
       "1                0     NaN               NaN                 NaN       0  \n",
       "2                0     NaN               NaN               181.0       0  \n",
       "3                1     NaN             124.0                 NaN       0  \n",
       "4                2     NaN               NaN                 NaN       1  "
      ]
     },
     "execution_count": 11,
     "metadata": {},
     "output_type": "execute_result"
    }
   ],
   "source": [
    "# Mengubah tipe data Tanggal_Asuransi menjadi integer\n",
    "\n",
    "data_asuransi_train['Tanggal_Asuransi'] = data_asuransi_train['Tanggal_Asuransi'].apply(lambda x: x.toordinal())\n",
    "data_asuransi_train.head()"
   ]
  },
  {
   "cell_type": "markdown",
   "metadata": {},
   "source": [
    "Dan kami akan mencoba untuk membuatkan sebuah visualisasi timeseries dari kolom Tanggal_Asuransi berdasarkan dari kolom umur (Gender). Namun untuk visualisasi ini, kami mengubah tipe data dari kolom Tanggal_Asuransi menjadi tipe data integer."
   ]
  },
  {
   "cell_type": "code",
   "execution_count": 12,
   "metadata": {},
   "outputs": [
    {
     "data": {
      "image/png": "[encoded data removed]",
      "text/plain": [
       "<Figure size 432x288 with 1 Axes>"
      ]
     },
     "metadata": {
      "needs_background": "light"
     },
     "output_type": "display_data"
    },
    {
     "data": {
      "text/plain": [
       "<Figure size 720x720 with 0 Axes>"
      ]
     },
     "metadata": {},
     "output_type": "display_data"
    }
   ],
   "source": [
    "# Membuat visualisasi time series berdasarkan Tanggal_Asuransi untuk kolom Gender dengan nilai hue=Target\n",
    "sns.lineplot(data=data_asuransi_train, x=\"Tanggal_Asuransi\", y=\"Gender\", hue=\"Target\")\n",
    "plt.figure(figsize=(10, 10))\n",
    "plt.show()"
   ]
  },
  {
   "cell_type": "markdown",
   "metadata": {},
   "source": [
    "Namun karena masih terlihat banyak data yang kosong (NaN), kami melakukan sebuah proses pengisian data kosong dengan nilai mean dari setiap kolom agar tidak menjadi data yang kosong."
   ]
  },
  {
   "cell_type": "code",
   "execution_count": 13,
   "metadata": {
    "scrolled": false
   },
   "outputs": [
    {
     "data": {
      "text/html": [
       "<div>\n",
       "<style scoped>\n",
       "    .dataframe tbody tr th:only-of-type {\n",
       "        vertical-align: middle;\n",
       "    }\n",
       "\n",
       "    .dataframe tbody tr th {\n",
       "        vertical-align: top;\n",
       "    }\n",
       "\n",
       "    .dataframe thead th {\n",
       "        text-align: right;\n",
       "    }\n",
       "</style>\n",
       "<table border=\"1\" class=\"dataframe\">\n",
       "  <thead>\n",
       "    <tr style=\"text-align: right;\">\n",
       "      <th></th>\n",
       "      <th>id</th>\n",
       "      <th>Gender</th>\n",
       "      <th>Umur</th>\n",
       "      <th>Izin_Mengemudi</th>\n",
       "      <th>Kode_Wilayah</th>\n",
       "      <th>Tanggal_Asuransi</th>\n",
       "      <th>Tahun_Kendaraan</th>\n",
       "      <th>Biaya</th>\n",
       "      <th>Sourcing_Channel</th>\n",
       "      <th>Hari_Diasuransikan</th>\n",
       "      <th>Target</th>\n",
       "    </tr>\n",
       "  </thead>\n",
       "  <tbody>\n",
       "    <tr>\n",
       "      <th>0</th>\n",
       "      <td>58609</td>\n",
       "      <td>0</td>\n",
       "      <td>65.000000</td>\n",
       "      <td>1.000000</td>\n",
       "      <td>48.000000</td>\n",
       "      <td>737002</td>\n",
       "      <td>-1</td>\n",
       "      <td>2630.000000</td>\n",
       "      <td>15.000000</td>\n",
       "      <td>131.000000</td>\n",
       "      <td>0</td>\n",
       "    </tr>\n",
       "    <tr>\n",
       "      <th>1</th>\n",
       "      <td>208222</td>\n",
       "      <td>0</td>\n",
       "      <td>22.000000</td>\n",
       "      <td>1.000000</td>\n",
       "      <td>21.000000</td>\n",
       "      <td>736727</td>\n",
       "      <td>0</td>\n",
       "      <td>31183.756781</td>\n",
       "      <td>110.872007</td>\n",
       "      <td>154.168995</td>\n",
       "      <td>0</td>\n",
       "    </tr>\n",
       "    <tr>\n",
       "      <th>2</th>\n",
       "      <td>345428</td>\n",
       "      <td>0</td>\n",
       "      <td>24.000000</td>\n",
       "      <td>1.000000</td>\n",
       "      <td>26.406032</td>\n",
       "      <td>737191</td>\n",
       "      <td>0</td>\n",
       "      <td>31183.756781</td>\n",
       "      <td>110.872007</td>\n",
       "      <td>181.000000</td>\n",
       "      <td>0</td>\n",
       "    </tr>\n",
       "    <tr>\n",
       "      <th>3</th>\n",
       "      <td>236831</td>\n",
       "      <td>0</td>\n",
       "      <td>58.000000</td>\n",
       "      <td>1.000000</td>\n",
       "      <td>46.000000</td>\n",
       "      <td>737382</td>\n",
       "      <td>1</td>\n",
       "      <td>31183.756781</td>\n",
       "      <td>124.000000</td>\n",
       "      <td>154.168995</td>\n",
       "      <td>0</td>\n",
       "    </tr>\n",
       "    <tr>\n",
       "      <th>4</th>\n",
       "      <td>280181</td>\n",
       "      <td>0</td>\n",
       "      <td>38.916592</td>\n",
       "      <td>1.000000</td>\n",
       "      <td>36.000000</td>\n",
       "      <td>737382</td>\n",
       "      <td>2</td>\n",
       "      <td>31183.756781</td>\n",
       "      <td>110.872007</td>\n",
       "      <td>154.168995</td>\n",
       "      <td>1</td>\n",
       "    </tr>\n",
       "    <tr>\n",
       "      <th>5</th>\n",
       "      <td>31680</td>\n",
       "      <td>0</td>\n",
       "      <td>55.000000</td>\n",
       "      <td>1.000000</td>\n",
       "      <td>28.000000</td>\n",
       "      <td>737403</td>\n",
       "      <td>1</td>\n",
       "      <td>54135.000000</td>\n",
       "      <td>52.000000</td>\n",
       "      <td>285.000000</td>\n",
       "      <td>0</td>\n",
       "    </tr>\n",
       "    <tr>\n",
       "      <th>6</th>\n",
       "      <td>52488</td>\n",
       "      <td>1</td>\n",
       "      <td>23.000000</td>\n",
       "      <td>1.000000</td>\n",
       "      <td>50.000000</td>\n",
       "      <td>737297</td>\n",
       "      <td>0</td>\n",
       "      <td>31183.756781</td>\n",
       "      <td>110.872007</td>\n",
       "      <td>145.000000</td>\n",
       "      <td>0</td>\n",
       "    </tr>\n",
       "    <tr>\n",
       "      <th>7</th>\n",
       "      <td>278334</td>\n",
       "      <td>0</td>\n",
       "      <td>72.000000</td>\n",
       "      <td>1.000000</td>\n",
       "      <td>28.000000</td>\n",
       "      <td>737297</td>\n",
       "      <td>2</td>\n",
       "      <td>31183.756781</td>\n",
       "      <td>122.000000</td>\n",
       "      <td>242.000000</td>\n",
       "      <td>0</td>\n",
       "    </tr>\n",
       "    <tr>\n",
       "      <th>8</th>\n",
       "      <td>129322</td>\n",
       "      <td>0</td>\n",
       "      <td>23.000000</td>\n",
       "      <td>0.998815</td>\n",
       "      <td>26.406032</td>\n",
       "      <td>737287</td>\n",
       "      <td>0</td>\n",
       "      <td>33007.000000</td>\n",
       "      <td>124.000000</td>\n",
       "      <td>154.168995</td>\n",
       "      <td>0</td>\n",
       "    </tr>\n",
       "    <tr>\n",
       "      <th>9</th>\n",
       "      <td>316145</td>\n",
       "      <td>0</td>\n",
       "      <td>38.916592</td>\n",
       "      <td>1.000000</td>\n",
       "      <td>26.406032</td>\n",
       "      <td>736975</td>\n",
       "      <td>1</td>\n",
       "      <td>53322.000000</td>\n",
       "      <td>110.872007</td>\n",
       "      <td>154.168995</td>\n",
       "      <td>0</td>\n",
       "    </tr>\n",
       "  </tbody>\n",
       "</table>\n",
       "</div>"
      ],
      "text/plain": [
       "       id  Gender       Umur  Izin_Mengemudi  Kode_Wilayah  Tanggal_Asuransi  \\\n",
       "0   58609       0  65.000000        1.000000     48.000000            737002   \n",
       "1  208222       0  22.000000        1.000000     21.000000            736727   \n",
       "2  345428       0  24.000000        1.000000     26.406032            737191   \n",
       "3  236831       0  58.000000        1.000000     46.000000            737382   \n",
       "4  280181       0  38.916592        1.000000     36.000000            737382   \n",
       "5   31680       0  55.000000        1.000000     28.000000            737403   \n",
       "6   52488       1  23.000000        1.000000     50.000000            737297   \n",
       "7  278334       0  72.000000        1.000000     28.000000            737297   \n",
       "8  129322       0  23.000000        0.998815     26.406032            737287   \n",
       "9  316145       0  38.916592        1.000000     26.406032            736975   \n",
       "\n",
       "   Tahun_Kendaraan         Biaya  Sourcing_Channel  Hari_Diasuransikan  Target  \n",
       "0               -1   2630.000000         15.000000          131.000000       0  \n",
       "1                0  31183.756781        110.872007          154.168995       0  \n",
       "2                0  31183.756781        110.872007          181.000000       0  \n",
       "3                1  31183.756781        124.000000          154.168995       0  \n",
       "4                2  31183.756781        110.872007          154.168995       1  \n",
       "5                1  54135.000000         52.000000          285.000000       0  \n",
       "6                0  31183.756781        110.872007          145.000000       0  \n",
       "7                2  31183.756781        122.000000          242.000000       0  \n",
       "8                0  33007.000000        124.000000          154.168995       0  \n",
       "9                1  53322.000000        110.872007          154.168995       0  "
      ]
     },
     "execution_count": 13,
     "metadata": {},
     "output_type": "execute_result"
    }
   ],
   "source": [
    "# Mengganti nillai data yang NaN dengan nilai mean (Rata-rata) dari setiap kolom\n",
    "\n",
    "mean = data_asuransi_train.mean()\n",
    "data_asuransi_train = data_asuransi_train.replace(np.nan, mean)\n",
    "data_asuransi_train.head(10)"
   ]
  },
  {
   "cell_type": "code",
   "execution_count": 14,
   "metadata": {},
   "outputs": [
    {
     "name": "stdout",
     "output_type": "stream",
     "text": [
      "<class 'pandas.core.frame.DataFrame'>\n",
      "RangeIndex: 382154 entries, 0 to 382153\n",
      "Data columns (total 11 columns):\n",
      " #   Column              Non-Null Count   Dtype  \n",
      "---  ------              --------------   -----  \n",
      " 0   id                  382154 non-null  int64  \n",
      " 1   Gender              382154 non-null  uint8  \n",
      " 2   Umur                382154 non-null  float64\n",
      " 3   Izin_Mengemudi      382154 non-null  float64\n",
      " 4   Kode_Wilayah        382154 non-null  float64\n",
      " 5   Tanggal_Asuransi    382154 non-null  int64  \n",
      " 6   Tahun_Kendaraan     382154 non-null  int64  \n",
      " 7   Biaya               382154 non-null  float64\n",
      " 8   Sourcing_Channel    382154 non-null  float64\n",
      " 9   Hari_Diasuransikan  382154 non-null  float64\n",
      " 10  Target              382154 non-null  int64  \n",
      "dtypes: float64(6), int64(4), uint8(1)\n",
      "memory usage: 29.5 MB\n"
     ]
    }
   ],
   "source": [
    "data_asuransi_train.info()"
   ]
  },
  {
   "cell_type": "code",
   "execution_count": 15,
   "metadata": {},
   "outputs": [
    {
     "data": {
      "text/plain": [
       "id                    0\n",
       "Gender                0\n",
       "Umur                  0\n",
       "Izin_Mengemudi        0\n",
       "Kode_Wilayah          0\n",
       "Tanggal_Asuransi      0\n",
       "Tahun_Kendaraan       0\n",
       "Biaya                 0\n",
       "Sourcing_Channel      0\n",
       "Hari_Diasuransikan    0\n",
       "Target                0\n",
       "dtype: int64"
      ]
     },
     "execution_count": 15,
     "metadata": {},
     "output_type": "execute_result"
    }
   ],
   "source": [
    "data_asuransi_train.isnull().sum()"
   ]
  },
  {
   "cell_type": "code",
   "execution_count": 16,
   "metadata": {},
   "outputs": [
    {
     "data": {
      "image/png": "[encoded data removed]",
      "text/plain": [
       "<Figure size 720x360 with 2 Axes>"
      ]
     },
     "metadata": {
      "needs_background": "light"
     },
     "output_type": "display_data"
    }
   ],
   "source": [
    "# Membuat sebuah korelasi untuk dataframe data_asuransi_train\n",
    "plt.figure(figsize=(10, 5))\n",
    "\n",
    "korelasi_data_asuransi_train = sns.heatmap(data_asuransi_train.corr(), vmin=-2, vmax=1, annot=True)\n",
    "korelasi_data_asuransi_train.set_title(\"Korelasi Data Asuransi Train\", fontdict={\"fontsize\":12}, pad=12);"
   ]
  },
  {
   "cell_type": "markdown",
   "metadata": {},
   "source": [
    "Keterangan pada visualisasi di atas:\n",
    "1. vmin, vmax = kisaran nilai yang memiliki fungsi sebagai dasar peta warna\n",
    "2. annot = Jika memberikan nilai True, maka nilai setiap korelasi menjadi terlihat pada sel yang berwarna. Sedangkan false, nilai korelasinya akan sangat memudar dan tidak terlihat."
   ]
  },
  {
   "cell_type": "code",
   "execution_count": 17,
   "metadata": {},
   "outputs": [
    {
     "data": {
      "image/png": "[encoded data removed]",
      "text/plain": [
       "<Figure size 432x288 with 1 Axes>"
      ]
     },
     "metadata": {
      "needs_background": "light"
     },
     "output_type": "display_data"
    },
    {
     "data": {
      "text/plain": [
       "<Figure size 720x720 with 0 Axes>"
      ]
     },
     "metadata": {},
     "output_type": "display_data"
    }
   ],
   "source": [
    "# Visualisasi kolom Target dari variable output\n",
    "\n",
    "sns.countplot(x=\"Target\", hue=\"Target\", data=data_asuransi_train)\n",
    "plt.figure(figsize=(10, 10))\n",
    "plt.show()\n",
    "# 0 = Tidak meneruskan layanan asuransi & 1 = Meneruskan layanan asuransi"
   ]
  },
  {
   "cell_type": "markdown",
   "metadata": {},
   "source": [
    "## 2. Mengolah Data Test (Pre-processing)"
   ]
  },
  {
   "cell_type": "code",
   "execution_count": 18,
   "metadata": {},
   "outputs": [
    {
     "data": {
      "text/html": [
       "<div>\n",
       "<style scoped>\n",
       "    .dataframe tbody tr th:only-of-type {\n",
       "        vertical-align: middle;\n",
       "    }\n",
       "\n",
       "    .dataframe tbody tr th {\n",
       "        vertical-align: top;\n",
       "    }\n",
       "\n",
       "    .dataframe thead th {\n",
       "        text-align: right;\n",
       "    }\n",
       "</style>\n",
       "<table border=\"1\" class=\"dataframe\">\n",
       "  <thead>\n",
       "    <tr style=\"text-align: right;\">\n",
       "      <th></th>\n",
       "      <th>id</th>\n",
       "      <th>Gender</th>\n",
       "      <th>Umur</th>\n",
       "      <th>Izin_Mengemudi</th>\n",
       "      <th>Kode_Wilayah</th>\n",
       "      <th>Tanggal_Asuransi</th>\n",
       "      <th>Tahun_Kendaraan</th>\n",
       "      <th>Biaya</th>\n",
       "      <th>Sourcing_Channel</th>\n",
       "      <th>Hari_Diasuransikan</th>\n",
       "    </tr>\n",
       "  </thead>\n",
       "  <tbody>\n",
       "    <tr>\n",
       "      <th>0</th>\n",
       "      <td>273737</td>\n",
       "      <td>NaN</td>\n",
       "      <td>NaN</td>\n",
       "      <td>1.0</td>\n",
       "      <td>11.0</td>\n",
       "      <td>NaN</td>\n",
       "      <td>NaN</td>\n",
       "      <td>NaN</td>\n",
       "      <td>NaN</td>\n",
       "      <td>193.0</td>\n",
       "    </tr>\n",
       "    <tr>\n",
       "      <th>1</th>\n",
       "      <td>49175</td>\n",
       "      <td>Pria</td>\n",
       "      <td>25.0</td>\n",
       "      <td>1.0</td>\n",
       "      <td>30.0</td>\n",
       "      <td>4/14/2018</td>\n",
       "      <td>&lt;1 Tahun</td>\n",
       "      <td>NaN</td>\n",
       "      <td>152.0</td>\n",
       "      <td>153.0</td>\n",
       "    </tr>\n",
       "    <tr>\n",
       "      <th>2</th>\n",
       "      <td>353494</td>\n",
       "      <td>Wanita</td>\n",
       "      <td>50.0</td>\n",
       "      <td>1.0</td>\n",
       "      <td>19.0</td>\n",
       "      <td>12/25/2019</td>\n",
       "      <td>NaN</td>\n",
       "      <td>31641.0</td>\n",
       "      <td>124.0</td>\n",
       "      <td>278.0</td>\n",
       "    </tr>\n",
       "    <tr>\n",
       "      <th>3</th>\n",
       "      <td>182676</td>\n",
       "      <td>Wanita</td>\n",
       "      <td>59.0</td>\n",
       "      <td>NaN</td>\n",
       "      <td>NaN</td>\n",
       "      <td>5/4/2018</td>\n",
       "      <td>1-2 Tahun</td>\n",
       "      <td>2630.0</td>\n",
       "      <td>26.0</td>\n",
       "      <td>202.0</td>\n",
       "    </tr>\n",
       "    <tr>\n",
       "      <th>4</th>\n",
       "      <td>498206</td>\n",
       "      <td>Wanita</td>\n",
       "      <td>57.0</td>\n",
       "      <td>NaN</td>\n",
       "      <td>28.0</td>\n",
       "      <td>4/17/2019</td>\n",
       "      <td>1-2 Tahun</td>\n",
       "      <td>26357.0</td>\n",
       "      <td>122.0</td>\n",
       "      <td>142.0</td>\n",
       "    </tr>\n",
       "  </tbody>\n",
       "</table>\n",
       "</div>"
      ],
      "text/plain": [
       "       id  Gender  Umur  Izin_Mengemudi  Kode_Wilayah Tanggal_Asuransi  \\\n",
       "0  273737     NaN   NaN             1.0          11.0              NaN   \n",
       "1   49175    Pria  25.0             1.0          30.0        4/14/2018   \n",
       "2  353494  Wanita  50.0             1.0          19.0       12/25/2019   \n",
       "3  182676  Wanita  59.0             NaN           NaN         5/4/2018   \n",
       "4  498206  Wanita  57.0             NaN          28.0        4/17/2019   \n",
       "\n",
       "  Tahun_Kendaraan    Biaya  Sourcing_Channel  Hari_Diasuransikan  \n",
       "0             NaN      NaN               NaN               193.0  \n",
       "1        <1 Tahun      NaN             152.0               153.0  \n",
       "2             NaN  31641.0             124.0               278.0  \n",
       "3       1-2 Tahun   2630.0              26.0               202.0  \n",
       "4       1-2 Tahun  26357.0             122.0               142.0  "
      ]
     },
     "execution_count": 18,
     "metadata": {},
     "output_type": "execute_result"
    }
   ],
   "source": [
    "data_asuransi_test.head()"
   ]
  },
  {
   "cell_type": "code",
   "execution_count": 19,
   "metadata": {},
   "outputs": [
    {
     "data": {
      "text/plain": [
       "id                        0\n",
       "Gender                 7578\n",
       "Umur                  15581\n",
       "Izin_Mengemudi        15713\n",
       "Kode_Wilayah          19553\n",
       "Tanggal_Asuransi      11252\n",
       "Tahun_Kendaraan       13551\n",
       "Biaya                 20847\n",
       "Sourcing_Channel      13239\n",
       "Hari_Diasuransikan    17220\n",
       "dtype: int64"
      ]
     },
     "execution_count": 19,
     "metadata": {},
     "output_type": "execute_result"
    }
   ],
   "source": [
    "data_asuransi_test.isnull().sum()"
   ]
  },
  {
   "cell_type": "markdown",
   "metadata": {},
   "source": [
    "Karena dalam data test masih terdapat data yang kosong, maka kami akan melakukan pengolahan terlebih dahulu supaya dapat di proses dalam memakai algoritma pengujian."
   ]
  },
  {
   "cell_type": "code",
   "execution_count": 20,
   "metadata": {
    "scrolled": true
   },
   "outputs": [
    {
     "data": {
      "text/html": [
       "<div>\n",
       "<style scoped>\n",
       "    .dataframe tbody tr th:only-of-type {\n",
       "        vertical-align: middle;\n",
       "    }\n",
       "\n",
       "    .dataframe tbody tr th {\n",
       "        vertical-align: top;\n",
       "    }\n",
       "\n",
       "    .dataframe thead th {\n",
       "        text-align: right;\n",
       "    }\n",
       "</style>\n",
       "<table border=\"1\" class=\"dataframe\">\n",
       "  <thead>\n",
       "    <tr style=\"text-align: right;\">\n",
       "      <th></th>\n",
       "      <th>id</th>\n",
       "      <th>Gender</th>\n",
       "      <th>Umur</th>\n",
       "      <th>Izin_Mengemudi</th>\n",
       "      <th>Kode_Wilayah</th>\n",
       "      <th>Tanggal_Asuransi</th>\n",
       "      <th>Tahun_Kendaraan</th>\n",
       "      <th>Biaya</th>\n",
       "      <th>Sourcing_Channel</th>\n",
       "      <th>Hari_Diasuransikan</th>\n",
       "    </tr>\n",
       "  </thead>\n",
       "  <tbody>\n",
       "    <tr>\n",
       "      <th>0</th>\n",
       "      <td>273737</td>\n",
       "      <td>1</td>\n",
       "      <td>NaN</td>\n",
       "      <td>1.0</td>\n",
       "      <td>11.0</td>\n",
       "      <td>NaN</td>\n",
       "      <td>NaN</td>\n",
       "      <td>NaN</td>\n",
       "      <td>NaN</td>\n",
       "      <td>193.0</td>\n",
       "    </tr>\n",
       "    <tr>\n",
       "      <th>1</th>\n",
       "      <td>49175</td>\n",
       "      <td>0</td>\n",
       "      <td>25.0</td>\n",
       "      <td>1.0</td>\n",
       "      <td>30.0</td>\n",
       "      <td>4/14/2018</td>\n",
       "      <td>&lt;1 Tahun</td>\n",
       "      <td>NaN</td>\n",
       "      <td>152.0</td>\n",
       "      <td>153.0</td>\n",
       "    </tr>\n",
       "    <tr>\n",
       "      <th>2</th>\n",
       "      <td>353494</td>\n",
       "      <td>0</td>\n",
       "      <td>50.0</td>\n",
       "      <td>1.0</td>\n",
       "      <td>19.0</td>\n",
       "      <td>12/25/2019</td>\n",
       "      <td>NaN</td>\n",
       "      <td>31641.0</td>\n",
       "      <td>124.0</td>\n",
       "      <td>278.0</td>\n",
       "    </tr>\n",
       "    <tr>\n",
       "      <th>3</th>\n",
       "      <td>182676</td>\n",
       "      <td>0</td>\n",
       "      <td>59.0</td>\n",
       "      <td>NaN</td>\n",
       "      <td>NaN</td>\n",
       "      <td>5/4/2018</td>\n",
       "      <td>1-2 Tahun</td>\n",
       "      <td>2630.0</td>\n",
       "      <td>26.0</td>\n",
       "      <td>202.0</td>\n",
       "    </tr>\n",
       "    <tr>\n",
       "      <th>4</th>\n",
       "      <td>498206</td>\n",
       "      <td>0</td>\n",
       "      <td>57.0</td>\n",
       "      <td>NaN</td>\n",
       "      <td>28.0</td>\n",
       "      <td>4/17/2019</td>\n",
       "      <td>1-2 Tahun</td>\n",
       "      <td>26357.0</td>\n",
       "      <td>122.0</td>\n",
       "      <td>142.0</td>\n",
       "    </tr>\n",
       "  </tbody>\n",
       "</table>\n",
       "</div>"
      ],
      "text/plain": [
       "       id  Gender  Umur  Izin_Mengemudi  Kode_Wilayah Tanggal_Asuransi  \\\n",
       "0  273737       1   NaN             1.0          11.0              NaN   \n",
       "1   49175       0  25.0             1.0          30.0        4/14/2018   \n",
       "2  353494       0  50.0             1.0          19.0       12/25/2019   \n",
       "3  182676       0  59.0             NaN           NaN         5/4/2018   \n",
       "4  498206       0  57.0             NaN          28.0        4/17/2019   \n",
       "\n",
       "  Tahun_Kendaraan    Biaya  Sourcing_Channel  Hari_Diasuransikan  \n",
       "0             NaN      NaN               NaN               193.0  \n",
       "1        <1 Tahun      NaN             152.0               153.0  \n",
       "2             NaN  31641.0             124.0               278.0  \n",
       "3       1-2 Tahun   2630.0              26.0               202.0  \n",
       "4       1-2 Tahun  26357.0             122.0               142.0  "
      ]
     },
     "execution_count": 20,
     "metadata": {},
     "output_type": "execute_result"
    }
   ],
   "source": [
    "# Mengubah kategori dari tipe data string menjadi tipe integer (numerik)\n",
    "data_asuransi_test['Gender'] = pd.factorize(data_asuransi_test.Gender) [0]\n",
    "data_asuransi_test[\"Gender\"] = pd.get_dummies(data_asuransi_test[\"Gender\"])\n",
    "data_asuransi_test.head()"
   ]
  },
  {
   "cell_type": "code",
   "execution_count": 21,
   "metadata": {},
   "outputs": [
    {
     "data": {
      "image/png": "[encoded data removed]",
      "text/plain": [
       "<Figure size 432x288 with 1 Axes>"
      ]
     },
     "metadata": {
      "needs_background": "light"
     },
     "output_type": "display_data"
    },
    {
     "data": {
      "text/plain": [
       "<Figure size 720x720 with 0 Axes>"
      ]
     },
     "metadata": {},
     "output_type": "display_data"
    }
   ],
   "source": [
    "# Membuat visualisasi untuk kolom Gender\n",
    "\n",
    "sns.countplot(x=\"Gender\", hue=\"Gender\", data=data_asuransi_test)\n",
    "plt.figure(figsize=(10, 10))\n",
    "plt.show()"
   ]
  },
  {
   "cell_type": "markdown",
   "metadata": {},
   "source": [
    "Selanjutnya kami mengubah tipe data untuk kolom Tanggal_Asuransi dan Tahun_Kendaraan yang berawal adalah string/object, kami ubah menjadi integer."
   ]
  },
  {
   "cell_type": "code",
   "execution_count": 22,
   "metadata": {},
   "outputs": [
    {
     "data": {
      "text/html": [
       "<div>\n",
       "<style scoped>\n",
       "    .dataframe tbody tr th:only-of-type {\n",
       "        vertical-align: middle;\n",
       "    }\n",
       "\n",
       "    .dataframe tbody tr th {\n",
       "        vertical-align: top;\n",
       "    }\n",
       "\n",
       "    .dataframe thead th {\n",
       "        text-align: right;\n",
       "    }\n",
       "</style>\n",
       "<table border=\"1\" class=\"dataframe\">\n",
       "  <thead>\n",
       "    <tr style=\"text-align: right;\">\n",
       "      <th></th>\n",
       "      <th>id</th>\n",
       "      <th>Gender</th>\n",
       "      <th>Umur</th>\n",
       "      <th>Izin_Mengemudi</th>\n",
       "      <th>Kode_Wilayah</th>\n",
       "      <th>Tanggal_Asuransi</th>\n",
       "      <th>Tahun_Kendaraan</th>\n",
       "      <th>Biaya</th>\n",
       "      <th>Sourcing_Channel</th>\n",
       "      <th>Hari_Diasuransikan</th>\n",
       "    </tr>\n",
       "  </thead>\n",
       "  <tbody>\n",
       "    <tr>\n",
       "      <th>0</th>\n",
       "      <td>273737</td>\n",
       "      <td>1</td>\n",
       "      <td>NaN</td>\n",
       "      <td>1.0</td>\n",
       "      <td>11.0</td>\n",
       "      <td>2018-04-14</td>\n",
       "      <td>-1</td>\n",
       "      <td>NaN</td>\n",
       "      <td>NaN</td>\n",
       "      <td>193.0</td>\n",
       "    </tr>\n",
       "    <tr>\n",
       "      <th>1</th>\n",
       "      <td>49175</td>\n",
       "      <td>0</td>\n",
       "      <td>25.0</td>\n",
       "      <td>1.0</td>\n",
       "      <td>30.0</td>\n",
       "      <td>2018-04-14</td>\n",
       "      <td>0</td>\n",
       "      <td>NaN</td>\n",
       "      <td>152.0</td>\n",
       "      <td>153.0</td>\n",
       "    </tr>\n",
       "    <tr>\n",
       "      <th>2</th>\n",
       "      <td>353494</td>\n",
       "      <td>0</td>\n",
       "      <td>50.0</td>\n",
       "      <td>1.0</td>\n",
       "      <td>19.0</td>\n",
       "      <td>2019-12-25</td>\n",
       "      <td>-1</td>\n",
       "      <td>31641.0</td>\n",
       "      <td>124.0</td>\n",
       "      <td>278.0</td>\n",
       "    </tr>\n",
       "    <tr>\n",
       "      <th>3</th>\n",
       "      <td>182676</td>\n",
       "      <td>0</td>\n",
       "      <td>59.0</td>\n",
       "      <td>NaN</td>\n",
       "      <td>NaN</td>\n",
       "      <td>2018-05-04</td>\n",
       "      <td>1</td>\n",
       "      <td>2630.0</td>\n",
       "      <td>26.0</td>\n",
       "      <td>202.0</td>\n",
       "    </tr>\n",
       "    <tr>\n",
       "      <th>4</th>\n",
       "      <td>498206</td>\n",
       "      <td>0</td>\n",
       "      <td>57.0</td>\n",
       "      <td>NaN</td>\n",
       "      <td>28.0</td>\n",
       "      <td>2019-04-17</td>\n",
       "      <td>1</td>\n",
       "      <td>26357.0</td>\n",
       "      <td>122.0</td>\n",
       "      <td>142.0</td>\n",
       "    </tr>\n",
       "  </tbody>\n",
       "</table>\n",
       "</div>"
      ],
      "text/plain": [
       "       id  Gender  Umur  Izin_Mengemudi  Kode_Wilayah Tanggal_Asuransi  \\\n",
       "0  273737       1   NaN             1.0          11.0       2018-04-14   \n",
       "1   49175       0  25.0             1.0          30.0       2018-04-14   \n",
       "2  353494       0  50.0             1.0          19.0       2019-12-25   \n",
       "3  182676       0  59.0             NaN           NaN       2018-05-04   \n",
       "4  498206       0  57.0             NaN          28.0       2019-04-17   \n",
       "\n",
       "   Tahun_Kendaraan    Biaya  Sourcing_Channel  Hari_Diasuransikan  \n",
       "0               -1      NaN               NaN               193.0  \n",
       "1                0      NaN             152.0               153.0  \n",
       "2               -1  31641.0             124.0               278.0  \n",
       "3                1   2630.0              26.0               202.0  \n",
       "4                1  26357.0             122.0               142.0  "
      ]
     },
     "execution_count": 22,
     "metadata": {},
     "output_type": "execute_result"
    }
   ],
   "source": [
    "# Perubahan tipe data Tanggal Asuransi menjadi datetime sekaligus mengisi nilai yang kosong\n",
    "\n",
    "data_asuransi_test[\"Tanggal_Asuransi\"] = pd.to_datetime(data_asuransi_test[\"Tanggal_Asuransi\"], errors='coerce')\n",
    "data_asuransi_test[\"Tanggal_Asuransi\"].fillna(method='bfill', inplace=True)\n",
    "\n",
    "# Perubahan pada kolom tipe data Tahun_Kendaraan yang berawal adalah string menjadi integer\n",
    "\n",
    "data_asuransi_test['Tahun_Kendaraan'] = pd.factorize(data_asuransi_test.Tahun_Kendaraan) [0]\n",
    "data_asuransi_test.head()"
   ]
  },
  {
   "cell_type": "markdown",
   "metadata": {},
   "source": [
    "Namun jika dilihat pada tahapan preprocessing untuk Tanggal_Asuransi, tipe data yang digunakan masih tipe data datetime, maka kami harus mengubahnya menjadi integer karena dalam melakukan pengujian algoritma tidak bisa mengolah tipe data datetime."
   ]
  },
  {
   "cell_type": "code",
   "execution_count": 23,
   "metadata": {},
   "outputs": [
    {
     "data": {
      "text/html": [
       "<div>\n",
       "<style scoped>\n",
       "    .dataframe tbody tr th:only-of-type {\n",
       "        vertical-align: middle;\n",
       "    }\n",
       "\n",
       "    .dataframe tbody tr th {\n",
       "        vertical-align: top;\n",
       "    }\n",
       "\n",
       "    .dataframe thead th {\n",
       "        text-align: right;\n",
       "    }\n",
       "</style>\n",
       "<table border=\"1\" class=\"dataframe\">\n",
       "  <thead>\n",
       "    <tr style=\"text-align: right;\">\n",
       "      <th></th>\n",
       "      <th>id</th>\n",
       "      <th>Gender</th>\n",
       "      <th>Umur</th>\n",
       "      <th>Izin_Mengemudi</th>\n",
       "      <th>Kode_Wilayah</th>\n",
       "      <th>Tanggal_Asuransi</th>\n",
       "      <th>Tahun_Kendaraan</th>\n",
       "      <th>Biaya</th>\n",
       "      <th>Sourcing_Channel</th>\n",
       "      <th>Hari_Diasuransikan</th>\n",
       "    </tr>\n",
       "  </thead>\n",
       "  <tbody>\n",
       "    <tr>\n",
       "      <th>0</th>\n",
       "      <td>273737</td>\n",
       "      <td>1</td>\n",
       "      <td>NaN</td>\n",
       "      <td>1.0</td>\n",
       "      <td>11.0</td>\n",
       "      <td>736798</td>\n",
       "      <td>-1</td>\n",
       "      <td>NaN</td>\n",
       "      <td>NaN</td>\n",
       "      <td>193.0</td>\n",
       "    </tr>\n",
       "    <tr>\n",
       "      <th>1</th>\n",
       "      <td>49175</td>\n",
       "      <td>0</td>\n",
       "      <td>25.0</td>\n",
       "      <td>1.0</td>\n",
       "      <td>30.0</td>\n",
       "      <td>736798</td>\n",
       "      <td>0</td>\n",
       "      <td>NaN</td>\n",
       "      <td>152.0</td>\n",
       "      <td>153.0</td>\n",
       "    </tr>\n",
       "    <tr>\n",
       "      <th>2</th>\n",
       "      <td>353494</td>\n",
       "      <td>0</td>\n",
       "      <td>50.0</td>\n",
       "      <td>1.0</td>\n",
       "      <td>19.0</td>\n",
       "      <td>737418</td>\n",
       "      <td>-1</td>\n",
       "      <td>31641.0</td>\n",
       "      <td>124.0</td>\n",
       "      <td>278.0</td>\n",
       "    </tr>\n",
       "    <tr>\n",
       "      <th>3</th>\n",
       "      <td>182676</td>\n",
       "      <td>0</td>\n",
       "      <td>59.0</td>\n",
       "      <td>NaN</td>\n",
       "      <td>NaN</td>\n",
       "      <td>736818</td>\n",
       "      <td>1</td>\n",
       "      <td>2630.0</td>\n",
       "      <td>26.0</td>\n",
       "      <td>202.0</td>\n",
       "    </tr>\n",
       "    <tr>\n",
       "      <th>4</th>\n",
       "      <td>498206</td>\n",
       "      <td>0</td>\n",
       "      <td>57.0</td>\n",
       "      <td>NaN</td>\n",
       "      <td>28.0</td>\n",
       "      <td>737166</td>\n",
       "      <td>1</td>\n",
       "      <td>26357.0</td>\n",
       "      <td>122.0</td>\n",
       "      <td>142.0</td>\n",
       "    </tr>\n",
       "  </tbody>\n",
       "</table>\n",
       "</div>"
      ],
      "text/plain": [
       "       id  Gender  Umur  Izin_Mengemudi  Kode_Wilayah  Tanggal_Asuransi  \\\n",
       "0  273737       1   NaN             1.0          11.0            736798   \n",
       "1   49175       0  25.0             1.0          30.0            736798   \n",
       "2  353494       0  50.0             1.0          19.0            737418   \n",
       "3  182676       0  59.0             NaN           NaN            736818   \n",
       "4  498206       0  57.0             NaN          28.0            737166   \n",
       "\n",
       "   Tahun_Kendaraan    Biaya  Sourcing_Channel  Hari_Diasuransikan  \n",
       "0               -1      NaN               NaN               193.0  \n",
       "1                0      NaN             152.0               153.0  \n",
       "2               -1  31641.0             124.0               278.0  \n",
       "3                1   2630.0              26.0               202.0  \n",
       "4                1  26357.0             122.0               142.0  "
      ]
     },
     "execution_count": 23,
     "metadata": {},
     "output_type": "execute_result"
    }
   ],
   "source": [
    "data_asuransi_test['Tanggal_Asuransi'] = data_asuransi_test['Tanggal_Asuransi'].apply(lambda x: x.toordinal())\n",
    "data_asuransi_test.head()"
   ]
  },
  {
   "cell_type": "markdown",
   "metadata": {},
   "source": [
    "Dan kami akan mencoba untuk membuatkan sebuah visualisasi timeseries dari kolom Tanggal_Asuransi berdasarkan dari kolom umur (Gender). Namun untuk visualisasi ini, kami mengubah tipe data dari kolom Tanggal_Asuransi menjadi tipe data integer."
   ]
  },
  {
   "cell_type": "code",
   "execution_count": 24,
   "metadata": {},
   "outputs": [
    {
     "data": {
      "image/png": "[encoded data removed]",
      "text/plain": [
       "<Figure size 432x288 with 1 Axes>"
      ]
     },
     "metadata": {
      "needs_background": "light"
     },
     "output_type": "display_data"
    },
    {
     "data": {
      "text/plain": [
       "<Figure size 720x720 with 0 Axes>"
      ]
     },
     "metadata": {},
     "output_type": "display_data"
    }
   ],
   "source": [
    "# Membuat visualisasi time series berdasarkan Tanggal_Asuransi untuk kolom Gender\n",
    "sns.lineplot(data=data_asuransi_test, x=\"Tanggal_Asuransi\", y=\"Gender\")\n",
    "plt.figure(figsize=(10, 10))\n",
    "plt.show()"
   ]
  },
  {
   "cell_type": "code",
   "execution_count": 25,
   "metadata": {},
   "outputs": [
    {
     "data": {
      "text/html": [
       "<div>\n",
       "<style scoped>\n",
       "    .dataframe tbody tr th:only-of-type {\n",
       "        vertical-align: middle;\n",
       "    }\n",
       "\n",
       "    .dataframe tbody tr th {\n",
       "        vertical-align: top;\n",
       "    }\n",
       "\n",
       "    .dataframe thead th {\n",
       "        text-align: right;\n",
       "    }\n",
       "</style>\n",
       "<table border=\"1\" class=\"dataframe\">\n",
       "  <thead>\n",
       "    <tr style=\"text-align: right;\">\n",
       "      <th></th>\n",
       "      <th>id</th>\n",
       "      <th>Gender</th>\n",
       "      <th>Umur</th>\n",
       "      <th>Izin_Mengemudi</th>\n",
       "      <th>Kode_Wilayah</th>\n",
       "      <th>Tanggal_Asuransi</th>\n",
       "      <th>Tahun_Kendaraan</th>\n",
       "      <th>Biaya</th>\n",
       "      <th>Sourcing_Channel</th>\n",
       "      <th>Hari_Diasuransikan</th>\n",
       "    </tr>\n",
       "  </thead>\n",
       "  <tbody>\n",
       "    <tr>\n",
       "      <th>0</th>\n",
       "      <td>273737</td>\n",
       "      <td>1</td>\n",
       "      <td>NaN</td>\n",
       "      <td>1.0</td>\n",
       "      <td>11.0</td>\n",
       "      <td>736798</td>\n",
       "      <td>-1</td>\n",
       "      <td>NaN</td>\n",
       "      <td>NaN</td>\n",
       "      <td>193.0</td>\n",
       "    </tr>\n",
       "    <tr>\n",
       "      <th>1</th>\n",
       "      <td>49175</td>\n",
       "      <td>0</td>\n",
       "      <td>25.0</td>\n",
       "      <td>1.0</td>\n",
       "      <td>30.0</td>\n",
       "      <td>736798</td>\n",
       "      <td>0</td>\n",
       "      <td>NaN</td>\n",
       "      <td>152.0</td>\n",
       "      <td>153.0</td>\n",
       "    </tr>\n",
       "    <tr>\n",
       "      <th>2</th>\n",
       "      <td>353494</td>\n",
       "      <td>0</td>\n",
       "      <td>50.0</td>\n",
       "      <td>1.0</td>\n",
       "      <td>19.0</td>\n",
       "      <td>737418</td>\n",
       "      <td>-1</td>\n",
       "      <td>31641.0</td>\n",
       "      <td>124.0</td>\n",
       "      <td>278.0</td>\n",
       "    </tr>\n",
       "    <tr>\n",
       "      <th>3</th>\n",
       "      <td>182676</td>\n",
       "      <td>0</td>\n",
       "      <td>59.0</td>\n",
       "      <td>NaN</td>\n",
       "      <td>NaN</td>\n",
       "      <td>736818</td>\n",
       "      <td>1</td>\n",
       "      <td>2630.0</td>\n",
       "      <td>26.0</td>\n",
       "      <td>202.0</td>\n",
       "    </tr>\n",
       "    <tr>\n",
       "      <th>4</th>\n",
       "      <td>498206</td>\n",
       "      <td>0</td>\n",
       "      <td>57.0</td>\n",
       "      <td>NaN</td>\n",
       "      <td>28.0</td>\n",
       "      <td>737166</td>\n",
       "      <td>1</td>\n",
       "      <td>26357.0</td>\n",
       "      <td>122.0</td>\n",
       "      <td>142.0</td>\n",
       "    </tr>\n",
       "  </tbody>\n",
       "</table>\n",
       "</div>"
      ],
      "text/plain": [
       "       id  Gender  Umur  Izin_Mengemudi  Kode_Wilayah  Tanggal_Asuransi  \\\n",
       "0  273737       1   NaN             1.0          11.0            736798   \n",
       "1   49175       0  25.0             1.0          30.0            736798   \n",
       "2  353494       0  50.0             1.0          19.0            737418   \n",
       "3  182676       0  59.0             NaN           NaN            736818   \n",
       "4  498206       0  57.0             NaN          28.0            737166   \n",
       "\n",
       "   Tahun_Kendaraan    Biaya  Sourcing_Channel  Hari_Diasuransikan  \n",
       "0               -1      NaN               NaN               193.0  \n",
       "1                0      NaN             152.0               153.0  \n",
       "2               -1  31641.0             124.0               278.0  \n",
       "3                1   2630.0              26.0               202.0  \n",
       "4                1  26357.0             122.0               142.0  "
      ]
     },
     "execution_count": 25,
     "metadata": {},
     "output_type": "execute_result"
    }
   ],
   "source": [
    "data_asuransi_test.head()"
   ]
  },
  {
   "cell_type": "markdown",
   "metadata": {},
   "source": [
    "Karena masih terlihat banyak data yang kosong (NaN), kami melakukan sebuah proses pengisian data kosong dengan nilai mean dari setiap kolom agar tidak menjadi data yang kosong."
   ]
  },
  {
   "cell_type": "code",
   "execution_count": 26,
   "metadata": {},
   "outputs": [
    {
     "data": {
      "text/html": [
       "<div>\n",
       "<style scoped>\n",
       "    .dataframe tbody tr th:only-of-type {\n",
       "        vertical-align: middle;\n",
       "    }\n",
       "\n",
       "    .dataframe tbody tr th {\n",
       "        vertical-align: top;\n",
       "    }\n",
       "\n",
       "    .dataframe thead th {\n",
       "        text-align: right;\n",
       "    }\n",
       "</style>\n",
       "<table border=\"1\" class=\"dataframe\">\n",
       "  <thead>\n",
       "    <tr style=\"text-align: right;\">\n",
       "      <th></th>\n",
       "      <th>id</th>\n",
       "      <th>Gender</th>\n",
       "      <th>Umur</th>\n",
       "      <th>Izin_Mengemudi</th>\n",
       "      <th>Kode_Wilayah</th>\n",
       "      <th>Tanggal_Asuransi</th>\n",
       "      <th>Tahun_Kendaraan</th>\n",
       "      <th>Biaya</th>\n",
       "      <th>Sourcing_Channel</th>\n",
       "      <th>Hari_Diasuransikan</th>\n",
       "    </tr>\n",
       "  </thead>\n",
       "  <tbody>\n",
       "    <tr>\n",
       "      <th>0</th>\n",
       "      <td>273737</td>\n",
       "      <td>1</td>\n",
       "      <td>41.207092</td>\n",
       "      <td>1.000000</td>\n",
       "      <td>11.000000</td>\n",
       "      <td>736798</td>\n",
       "      <td>-1</td>\n",
       "      <td>31888.958329</td>\n",
       "      <td>108.169696</td>\n",
       "      <td>193.0</td>\n",
       "    </tr>\n",
       "    <tr>\n",
       "      <th>1</th>\n",
       "      <td>49175</td>\n",
       "      <td>0</td>\n",
       "      <td>25.000000</td>\n",
       "      <td>1.000000</td>\n",
       "      <td>30.000000</td>\n",
       "      <td>736798</td>\n",
       "      <td>0</td>\n",
       "      <td>31888.958329</td>\n",
       "      <td>152.000000</td>\n",
       "      <td>153.0</td>\n",
       "    </tr>\n",
       "    <tr>\n",
       "      <th>2</th>\n",
       "      <td>353494</td>\n",
       "      <td>0</td>\n",
       "      <td>50.000000</td>\n",
       "      <td>1.000000</td>\n",
       "      <td>19.000000</td>\n",
       "      <td>737418</td>\n",
       "      <td>-1</td>\n",
       "      <td>31641.000000</td>\n",
       "      <td>124.000000</td>\n",
       "      <td>278.0</td>\n",
       "    </tr>\n",
       "    <tr>\n",
       "      <th>3</th>\n",
       "      <td>182676</td>\n",
       "      <td>0</td>\n",
       "      <td>59.000000</td>\n",
       "      <td>0.998449</td>\n",
       "      <td>26.415497</td>\n",
       "      <td>736818</td>\n",
       "      <td>1</td>\n",
       "      <td>2630.000000</td>\n",
       "      <td>26.000000</td>\n",
       "      <td>202.0</td>\n",
       "    </tr>\n",
       "    <tr>\n",
       "      <th>4</th>\n",
       "      <td>498206</td>\n",
       "      <td>0</td>\n",
       "      <td>57.000000</td>\n",
       "      <td>0.998449</td>\n",
       "      <td>28.000000</td>\n",
       "      <td>737166</td>\n",
       "      <td>1</td>\n",
       "      <td>26357.000000</td>\n",
       "      <td>122.000000</td>\n",
       "      <td>142.0</td>\n",
       "    </tr>\n",
       "  </tbody>\n",
       "</table>\n",
       "</div>"
      ],
      "text/plain": [
       "       id  Gender       Umur  Izin_Mengemudi  Kode_Wilayah  Tanggal_Asuransi  \\\n",
       "0  273737       1  41.207092        1.000000     11.000000            736798   \n",
       "1   49175       0  25.000000        1.000000     30.000000            736798   \n",
       "2  353494       0  50.000000        1.000000     19.000000            737418   \n",
       "3  182676       0  59.000000        0.998449     26.415497            736818   \n",
       "4  498206       0  57.000000        0.998449     28.000000            737166   \n",
       "\n",
       "   Tahun_Kendaraan         Biaya  Sourcing_Channel  Hari_Diasuransikan  \n",
       "0               -1  31888.958329        108.169696               193.0  \n",
       "1                0  31888.958329        152.000000               153.0  \n",
       "2               -1  31641.000000        124.000000               278.0  \n",
       "3                1   2630.000000         26.000000               202.0  \n",
       "4                1  26357.000000        122.000000               142.0  "
      ]
     },
     "execution_count": 26,
     "metadata": {},
     "output_type": "execute_result"
    }
   ],
   "source": [
    "# Mengganti atau mengisi nilai NaN menjadi nilai Mean\n",
    "\n",
    "mean = data_asuransi_test.mean()\n",
    "data_asuransi_test = data_asuransi_test.replace(np.nan, mean)\n",
    "data_asuransi_test.head()"
   ]
  },
  {
   "cell_type": "code",
   "execution_count": 27,
   "metadata": {},
   "outputs": [
    {
     "name": "stdout",
     "output_type": "stream",
     "text": [
      "<class 'pandas.core.frame.DataFrame'>\n",
      "RangeIndex: 78273 entries, 0 to 78272\n",
      "Data columns (total 10 columns):\n",
      " #   Column              Non-Null Count  Dtype  \n",
      "---  ------              --------------  -----  \n",
      " 0   id                  78273 non-null  int64  \n",
      " 1   Gender              78273 non-null  uint8  \n",
      " 2   Umur                78273 non-null  float64\n",
      " 3   Izin_Mengemudi      78273 non-null  float64\n",
      " 4   Kode_Wilayah        78273 non-null  float64\n",
      " 5   Tanggal_Asuransi    78273 non-null  int64  \n",
      " 6   Tahun_Kendaraan     78273 non-null  int64  \n",
      " 7   Biaya               78273 non-null  float64\n",
      " 8   Sourcing_Channel    78273 non-null  float64\n",
      " 9   Hari_Diasuransikan  78273 non-null  float64\n",
      "dtypes: float64(6), int64(3), uint8(1)\n",
      "memory usage: 5.4 MB\n"
     ]
    }
   ],
   "source": [
    "data_asuransi_test.info()"
   ]
  },
  {
   "cell_type": "code",
   "execution_count": 28,
   "metadata": {},
   "outputs": [
    {
     "data": {
      "text/plain": [
       "id                    0\n",
       "Gender                0\n",
       "Umur                  0\n",
       "Izin_Mengemudi        0\n",
       "Kode_Wilayah          0\n",
       "Tanggal_Asuransi      0\n",
       "Tahun_Kendaraan       0\n",
       "Biaya                 0\n",
       "Sourcing_Channel      0\n",
       "Hari_Diasuransikan    0\n",
       "dtype: int64"
      ]
     },
     "execution_count": 28,
     "metadata": {},
     "output_type": "execute_result"
    }
   ],
   "source": [
    "data_asuransi_test.isnull().sum()"
   ]
  },
  {
   "cell_type": "code",
   "execution_count": 29,
   "metadata": {},
   "outputs": [
    {
     "data": {
      "image/png": "[encoded data removed]",
      "text/plain": [
       "<Figure size 720x360 with 2 Axes>"
      ]
     },
     "metadata": {
      "needs_background": "light"
     },
     "output_type": "display_data"
    }
   ],
   "source": [
    "# Membuat korelasi untuk dataframe data_asuransi_test\n",
    "plt.figure(figsize=(10, 5))\n",
    "\n",
    "korelasi_data_asuransi_test = sns.heatmap(data_asuransi_test.corr(), vmin=-2, vmax=1, annot=True)\n",
    "korelasi_data_asuransi_test.set_title(\"Korelasi Data Asuransi Test\", fontdict={\"fontsize\":12}, pad=12);"
   ]
  },
  {
   "cell_type": "markdown",
   "metadata": {},
   "source": [
    "Keterangan pada visualisasi di atas:\n",
    "1. vmin, vmax = kisaran nilai yang memiliki fungsi sebagai dasar peta warna\n",
    "2. annot = Jika memberikan nilai True, maka nilai setiap korelasi menjadi terlihat pada sel yang berwarna. Sedangkan false, nilai korelasinya akan sangat memudar dan tidak terlihat."
   ]
  },
  {
   "cell_type": "markdown",
   "metadata": {},
   "source": [
    "## 3. Menentukan Algoritma Untuk Data Test"
   ]
  },
  {
   "cell_type": "markdown",
   "metadata": {},
   "source": [
    "Menentukan isi dari variabel dependen dan independen. Untuk variabel dependen, kami mengisinya dengan kolom Target dari variabel data_asuransi_train sedangkan untuk variabel independennya merupakan semua kolom kecuali kolom Target."
   ]
  },
  {
   "cell_type": "code",
   "execution_count": 30,
   "metadata": {},
   "outputs": [],
   "source": [
    "x = data_asuransi_train.drop(\"Target\", axis=1)\n",
    "y = data_asuransi_train[\"Target\"]\n",
    "\n",
    "data_asuransi_train.sort_values(by=[\"id\"], inplace=True)"
   ]
  },
  {
   "cell_type": "code",
   "execution_count": 31,
   "metadata": {
    "scrolled": false
   },
   "outputs": [],
   "source": [
    "# Menentukan variable train dan variable test\n",
    "from sklearn.model_selection import train_test_split\n",
    "\n",
    "x_train, x_test, y_train, y_test = train_test_split(x, y, test_size = 0.2, random_state=100)"
   ]
  },
  {
   "cell_type": "code",
   "execution_count": 38,
   "metadata": {},
   "outputs": [
    {
     "data": {
      "text/plain": [
       "346105    0\n",
       "83896     0\n",
       "120488    0\n",
       "186992    1\n",
       "367513    0\n",
       "         ..\n",
       "339799    0\n",
       "253799    0\n",
       "210755    0\n",
       "56088     0\n",
       "300552    1\n",
       "Name: Target, Length: 305723, dtype: int64"
      ]
     },
     "execution_count": 38,
     "metadata": {},
     "output_type": "execute_result"
    }
   ],
   "source": [
    "y_train"
   ]
  },
  {
   "cell_type": "code",
   "execution_count": 32,
   "metadata": {},
   "outputs": [
    {
     "data": {
      "text/plain": [
       "RandomForestClassifier()"
      ]
     },
     "execution_count": 32,
     "metadata": {},
     "output_type": "execute_result"
    }
   ],
   "source": [
    "# Menentukan algoritma\n",
    "from sklearn.ensemble import RandomForestClassifier\n",
    "from sklearn.metrics import classification_report, roc_curve, auc\n",
    "\n",
    "model = RandomForestClassifier(n_estimators=100)\n",
    "\n",
    "# Fitting variable \n",
    "model.fit(x_train, y_train)"
   ]
  },
  {
   "cell_type": "code",
   "execution_count": 33,
   "metadata": {},
   "outputs": [
    {
     "data": {
      "text/plain": [
       "array([1, 0, 0, ..., 0, 0, 0], dtype=int64)"
      ]
     },
     "execution_count": 33,
     "metadata": {},
     "output_type": "execute_result"
    }
   ],
   "source": [
    "y_pred = model.predict(x_test)\n",
    "y_pred"
   ]
  },
  {
   "cell_type": "code",
   "execution_count": 34,
   "metadata": {
    "scrolled": false
   },
   "outputs": [
    {
     "name": "stdout",
     "output_type": "stream",
     "text": [
      "Nilai model akurasi random forest: 0.884758802056757\n"
     ]
    }
   ],
   "source": [
    "# Melihat tingkat akurasi dari algoritma Random Forest Classification\n",
    "from sklearn.metrics import accuracy_score\n",
    "\n",
    "print(\"Nilai model akurasi random forest:\", accuracy_score(y_test, y_pred))"
   ]
  },
  {
   "cell_type": "code",
   "execution_count": 35,
   "metadata": {},
   "outputs": [
    {
     "name": "stdout",
     "output_type": "stream",
     "text": [
      "[[63301   681]\n",
      " [ 8127  4322]]\n"
     ]
    }
   ],
   "source": [
    "# Melakukan pengukuran performa \n",
    "from sklearn.metrics import confusion_matrix\n",
    "\n",
    "print(confusion_matrix(y_test, y_pred))"
   ]
  },
  {
   "cell_type": "code",
   "execution_count": 36,
   "metadata": {
    "scrolled": true
   },
   "outputs": [
    {
     "name": "stdout",
     "output_type": "stream",
     "text": [
      "              precision    recall  f1-score   support\n",
      "\n",
      "           0       0.89      0.99      0.93     63982\n",
      "           1       0.86      0.35      0.50     12449\n",
      "\n",
      "    accuracy                           0.88     76431\n",
      "   macro avg       0.88      0.67      0.72     76431\n",
      "weighted avg       0.88      0.88      0.86     76431\n",
      "\n"
     ]
    }
   ],
   "source": [
    "# Mencetak tingkat akurasi, nilai precision, recall, dan mean f1-score\n",
    "from sklearn.metrics import classification_report\n",
    "\n",
    "print(classification_report(y_test, y_pred))"
   ]
  },
  {
   "cell_type": "markdown",
   "metadata": {},
   "source": [
    "Keterangan:\n",
    "1. Precision: merupakan seberapa akurat model yang digunakan dalam melakukan klasifikasi.\n",
    "2. Recall: merupakan gambaran dari keberhasilan suatu algoritma.\n",
    "3. F1-score: Perbandingan rata-rata precision dan recall yang telah dibobotkan."
   ]
  },
  {
   "cell_type": "code",
   "execution_count": 33,
   "metadata": {},
   "outputs": [],
   "source": [
    "y_test_pred = model.predict(data_asuransi_test)"
   ]
  },
  {
   "cell_type": "code",
   "execution_count": 34,
   "metadata": {
    "scrolled": false
   },
   "outputs": [
    {
     "data": {
      "text/html": [
       "<div>\n",
       "<style scoped>\n",
       "    .dataframe tbody tr th:only-of-type {\n",
       "        vertical-align: middle;\n",
       "    }\n",
       "\n",
       "    .dataframe tbody tr th {\n",
       "        vertical-align: top;\n",
       "    }\n",
       "\n",
       "    .dataframe thead th {\n",
       "        text-align: right;\n",
       "    }\n",
       "</style>\n",
       "<table border=\"1\" class=\"dataframe\">\n",
       "  <thead>\n",
       "    <tr style=\"text-align: right;\">\n",
       "      <th></th>\n",
       "      <th>id</th>\n",
       "      <th>Target</th>\n",
       "    </tr>\n",
       "  </thead>\n",
       "  <tbody>\n",
       "    <tr>\n",
       "      <th>0</th>\n",
       "      <td>273737</td>\n",
       "      <td>0</td>\n",
       "    </tr>\n",
       "    <tr>\n",
       "      <th>1</th>\n",
       "      <td>49175</td>\n",
       "      <td>0</td>\n",
       "    </tr>\n",
       "    <tr>\n",
       "      <th>2</th>\n",
       "      <td>353494</td>\n",
       "      <td>0</td>\n",
       "    </tr>\n",
       "    <tr>\n",
       "      <th>3</th>\n",
       "      <td>182676</td>\n",
       "      <td>0</td>\n",
       "    </tr>\n",
       "    <tr>\n",
       "      <th>4</th>\n",
       "      <td>498206</td>\n",
       "      <td>0</td>\n",
       "    </tr>\n",
       "    <tr>\n",
       "      <th>...</th>\n",
       "      <td>...</td>\n",
       "      <td>...</td>\n",
       "    </tr>\n",
       "    <tr>\n",
       "      <th>78268</th>\n",
       "      <td>456819</td>\n",
       "      <td>0</td>\n",
       "    </tr>\n",
       "    <tr>\n",
       "      <th>78269</th>\n",
       "      <td>202443</td>\n",
       "      <td>0</td>\n",
       "    </tr>\n",
       "    <tr>\n",
       "      <th>78270</th>\n",
       "      <td>368881</td>\n",
       "      <td>0</td>\n",
       "    </tr>\n",
       "    <tr>\n",
       "      <th>78271</th>\n",
       "      <td>145064</td>\n",
       "      <td>0</td>\n",
       "    </tr>\n",
       "    <tr>\n",
       "      <th>78272</th>\n",
       "      <td>129190</td>\n",
       "      <td>0</td>\n",
       "    </tr>\n",
       "  </tbody>\n",
       "</table>\n",
       "<p>78273 rows × 2 columns</p>\n",
       "</div>"
      ],
      "text/plain": [
       "           id  Target\n",
       "0      273737       0\n",
       "1       49175       0\n",
       "2      353494       0\n",
       "3      182676       0\n",
       "4      498206       0\n",
       "...       ...     ...\n",
       "78268  456819       0\n",
       "78269  202443       0\n",
       "78270  368881       0\n",
       "78271  145064       0\n",
       "78272  129190       0\n",
       "\n",
       "[78273 rows x 2 columns]"
      ]
     },
     "execution_count": 34,
     "metadata": {},
     "output_type": "execute_result"
    }
   ],
   "source": [
    "output = pd.DataFrame({'id' : data_asuransi_test[\"id\"], 'Target' : y_test_pred})\n",
    "output"
   ]
  },
  {
   "cell_type": "code",
   "execution_count": 35,
   "metadata": {},
   "outputs": [],
   "source": [
    "output.to_csv(\"Downloads/Dataset Joints/Asuransi J/submission1.csv\", index=False)"
   ]
  },
  {
   "cell_type": "code",
   "execution_count": 36,
   "metadata": {},
   "outputs": [],
   "source": [
    "output = pd.read_csv('Downloads/Dataset Joints/Asuransi J/submission1.csv')"
   ]
  },
  {
   "cell_type": "markdown",
   "metadata": {},
   "source": [
    "## 4. Membuat Visualisasi Untuk Variable Output "
   ]
  },
  {
   "cell_type": "code",
   "execution_count": 37,
   "metadata": {
    "scrolled": false
   },
   "outputs": [
    {
     "data": {
      "image/png": "[encoded data removed]",
      "text/plain": [
       "<Figure size 432x288 with 1 Axes>"
      ]
     },
     "metadata": {
      "needs_background": "light"
     },
     "output_type": "display_data"
    },
    {
     "data": {
      "text/plain": [
       "<Figure size 720x720 with 0 Axes>"
      ]
     },
     "metadata": {},
     "output_type": "display_data"
    }
   ],
   "source": [
    "# Visualisasi kolom Target dari variable output\n",
    "\n",
    "sns.countplot(x=\"Target\", hue=\"Target\", data=output)\n",
    "plt.figure(figsize=(10, 10))\n",
    "plt.show()\n",
    "# 0 = Tidak meneruskan layanan asuransi & 1 = Meneruskan layanan asuransi"
   ]
  },
  {
   "cell_type": "markdown",
   "metadata": {},
   "source": [
    "Jika pada visualisasi di atas kami membuatkan grafik dengan kolom target sebagai variabel independen (x), kali ini, kami membuatkan sebuah visualisasi menggunakan seaborn tetapi kolom target kami jadikan sebagai variabel dependen (y). Hasilnya dapat dilihat pada hasil di bawah:"
   ]
  },
  {
   "cell_type": "code",
   "execution_count": 38,
   "metadata": {},
   "outputs": [
    {
     "data": {
      "text/plain": [
       "<AxesSubplot:xlabel='count', ylabel='Target'>"
      ]
     },
     "execution_count": 38,
     "metadata": {},
     "output_type": "execute_result"
    },
    {
     "data": {
      "image/png": "[encoded data removed]",
      "text/plain": [
       "<Figure size 432x288 with 1 Axes>"
      ]
     },
     "metadata": {
      "needs_background": "light"
     },
     "output_type": "display_data"
    }
   ],
   "source": [
    "# Membuat visualisasi dengan kolom Target sebagai variabel independen (x)\n",
    "sns.countplot(y=\"Target\", data=output, color=\"c\")"
   ]
  },
  {
   "cell_type": "code",
   "execution_count": 39,
   "metadata": {
    "scrolled": true
   },
   "outputs": [
    {
     "data": {
      "image/png": "[encoded data removed]",
      "text/plain": [
       "<Figure size 576x360 with 2 Axes>"
      ]
     },
     "metadata": {
      "needs_background": "light"
     },
     "output_type": "display_data"
    }
   ],
   "source": [
    "# Membuat visualisasi korelasi dari variable output\n",
    "plt.figure(figsize=(8, 5))\n",
    "\n",
    "korelasi_data_asuransi = sns.heatmap(output.corr(), vmin=-3, vmax=2, annot=True)\n",
    "korelasi_data_asuransi.set_title(\"Korelasi Variabel Output\", fontdict={\"fontsize\":15}, pad=15);"
   ]
  },
  {
   "cell_type": "markdown",
   "metadata": {},
   "source": [
    "Keterangan pada visualisasi di atas:\n",
    "1. vmin, vmax = kisaran nilai yang memiliki fungsi sebagai dasar peta warna\n",
    "2. annot = Jika memberikan nilai True, maka nilai setiap korelasi menjadi terlihat pada sel yang berwarna. Sedangkan false, nilai korelasinya akan sangat memudar dan tidak terlihat."
   ]
  },
  {
   "cell_type": "markdown",
   "metadata": {},
   "source": [
    "Selanjutnya kami membuatkan visualisasi menggunakan pairplot dari library seaborn. Pairplot sendiri biasa digunakan untuk melihat distribusi atribut tunggal atau hubungan 2 atribut data."
   ]
  },
  {
   "cell_type": "code",
   "execution_count": 40,
   "metadata": {},
   "outputs": [
    {
     "data": {
      "text/plain": [
       "<seaborn.axisgrid.PairGrid at 0x2b8a3739850>"
      ]
     },
     "execution_count": 40,
     "metadata": {},
     "output_type": "execute_result"
    },
    {
     "data": {
      "image/png": "[encoded data removed]",
      "text/plain": [
       "<Figure size 360x360 with 6 Axes>"
      ]
     },
     "metadata": {
      "needs_background": "light"
     },
     "output_type": "display_data"
    }
   ],
   "source": [
    "# Membuat visualisasi dari pairplot untuk melihat distribusi dari variable output (Kolom id & Target)\n",
    "sns.pairplot(output)"
   ]
  }
 ],
 "metadata": {
  "kernelspec": {
   "display_name": "Python 3",
   "language": "python",
   "name": "python3"
  },
  "language_info": {
   "codemirror_mode": {
    "name": "ipython",
    "version": 3
   },
   "file_extension": ".py",
   "mimetype": "text/x-python",
   "name": "python",
   "nbconvert_exporter": "python",
   "pygments_lexer": "ipython3",
   "version": "3.8.5"
  }
 },
 "nbformat": 4,
 "nbformat_minor": 4
}
